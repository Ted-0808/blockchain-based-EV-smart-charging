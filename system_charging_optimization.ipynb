{
 "cells": [
  {
   "cell_type": "code",
   "execution_count": 35,
   "metadata": {},
   "outputs": [],
   "source": [
    "from pymongo import MongoClient\n",
    "client = MongoClient('mongodb://localhost:27017/')\n",
    "db = client['cpDB']\n",
    "collection = db.test1"
   ]
  },
  {
   "cell_type": "code",
   "execution_count": null,
   "metadata": {},
   "outputs": [],
   "source": []
  },
  {
   "cell_type": "code",
   "execution_count": 36,
   "metadata": {},
   "outputs": [],
   "source": [
    "timestep = 15 # in minutes"
   ]
  },
  {
   "cell_type": "code",
   "execution_count": 37,
   "metadata": {},
   "outputs": [],
   "source": [
    "powerLimit = 50"
   ]
  },
  {
   "cell_type": "code",
   "execution_count": 41,
   "metadata": {},
   "outputs": [],
   "source": [
    "def database_update(_cpid, changes):\n",
    "    query = {\"evse_id\":_cpid}\n",
    "    collection.update_one(query,changes)\n",
    "    \n",
    "    \n",
    "def optimization(powerLimit): #in real situation, _cpGroup shoud be included\n",
    "    # get updated status from cpDB\n",
    "    charging_pool =[]\n",
    "    totalPowerDemand =0\n",
    "    flex_supply =0\n",
    "    dbcopy =[]\n",
    "    global timestep\n",
    "    \n",
    "    \n",
    "    #use pymongo to change status of all finished events, think about how to record flexibility?! the values will be deleted once the EV is driven away \n",
    "    \n",
    "    #collection.update_many({'cp_group':'G1','status':'O',\"$or\":[{'chargingInfo.E':{\"$lte\":0}},{'chargingInfo.T':0}]},{\"$set\":{'status': 'Finished','updatedPower': 0, 'chargingInfo.E': None,'chargingInfo.T': None}})\n",
    "    collection.update_many({'cp_group':'G1','status':'L'},{\"$set\":{'status': 'Finished','updatedPower': 0}})\n",
    "    \n",
    "    #for the last timestep events, change status, update new power\n",
    "    for i in collection.find({'cp_group':'G1','status':'O','chargingInfo.T':timestep}):\n",
    "        \n",
    "        _updatedPower = min(i['powerValue'],(4* i['chargingInfo']['E']))\n",
    "        newPowerLevel = {\"$set\":{\"updatedPower\":_updatedPower, 'status':'L'}}\n",
    "        database_update(i['evse_id'], newPowerLevel) \n",
    "        powerLimit -= _updatedPower\n",
    "        \n",
    "        ####for simulation\n",
    "        _energy = - _updatedPower*0.25\n",
    "        _updatedStatus = {\"$inc\":{\"chargingInfo.E\":_energy,'chargingInfo.T': -timestep}}\n",
    "        database_update(i['evse_id'], _updatedStatus) \n",
    "    \n",
    "    for i in collection.find({'cp_group':'G1','status':'O'},{'_id':0,'evse_id':1, 'powerValue':1,'chargingInfo.user_id':1, 'chargingInfo.E':1,'chargingInfo.T':1}):\n",
    "        dbcopy.append(i)\n",
    "        #print(i)\n",
    "    \n",
    "    for i in dbcopy:\n",
    "        charging_pool.append({\"evse_id\":i['evse_id'],\"CPpower\":i['powerValue'],\"userID\":i['chargingInfo']['user_id'],\"E\":i['chargingInfo']['E'],\"T\":i['chargingInfo']['T']})\n",
    "        #print(charging_pool)\n",
    "    \n",
    "    for i in charging_pool:\n",
    "        i['F_t'] = (i['T'] - (i['E']/i['CPpower'])*60)\n",
    "        if (i['F_t']>= timestep):\n",
    "            i['F_p'] = i['CPpower']\n",
    "        else:\n",
    "            i['F_p'] = (i['F_t'] * i['CPpower']/timestep)\n",
    "        \n",
    "        totalPowerDemand += i['CPpower']\n",
    "        flex_supply += i['F_p']\n",
    "        i['flex_rec']= 0 #flexibility record\n",
    "    \n",
    "    # allocate the charging power again and send back to cpDB\n",
    "    if totalPowerDemand <= powerLimit:\n",
    "        #no grid congestion, update the db with full power supply for each CP\n",
    "        for i in charging_pool:\n",
    "            newPowerLevel = {\"$set\":{\"updatedPower\":i['CPpower']}}\n",
    "            database_update(i['evse_id'], newPowerLevel)\n",
    "            \n",
    "            ### for simulation\n",
    "            _energy = - i['CPpower']*0.25\n",
    "            _updatedStatus = {\"$inc\":{\"chargingInfo.E\":_energy,'chargingInfo.T': -timestep}}            \n",
    "            database_update(i['evse_id'], _updatedStatus)\n",
    "            \n",
    "        print('all updated1')\n",
    "        \n",
    "    else :    \n",
    "        flex_demand = totalPowerDemand - powerLimit\n",
    "        #update db with reduced power proportional to each CP, and add flex_rec to each document \n",
    "        for i in charging_pool:\n",
    "            _updatedPower = (i['CPpower'] - flex_demand/flex_supply *i['F_p'])\n",
    "            _flex = (i['CPpower'] - _updatedPower)*(timestep/60)\n",
    "            newPowerLevel = {\"$set\":{\"updatedPower\":_updatedPower}}\n",
    "            database_update(i['evse_id'], newPowerLevel)\n",
    "            newFlex = {\"$inc\":{\"chargingInfo.flex_rec\":_flex}}\n",
    "            database_update(i['evse_id'], newFlex)\n",
    "            \n",
    "            ### for simulation\n",
    "            _energy = - _updatedPower*0.25\n",
    "            _updatedStatus = {\"$inc\":{\"chargingInfo.E\":_energy,'chargingInfo.T': -timestep}}            \n",
    "            database_update(i['evse_id'], _updatedStatus)    \n",
    "            \n",
    "        \n",
    "        print('all updated2')"
   ]
  },
  {
   "cell_type": "code",
   "execution_count": 42,
   "metadata": {
    "scrolled": true
   },
   "outputs": [
    {
     "name": "stdout",
     "output_type": "stream",
     "text": [
      "round 0 \n",
      "all updated2\n",
      "round 1 \n",
      "all updated2\n",
      "round 2 \n",
      "all updated2\n",
      "round 3 \n",
      "all updated2\n",
      "round 4 \n",
      "all updated2\n",
      "round 5 \n",
      "all updated2\n",
      "round 6 \n",
      "all updated1\n",
      "round 7 \n",
      "all updated1\n",
      "round 8 \n",
      "all updated1\n",
      "round 9 \n",
      "all updated1\n",
      "round 10 \n",
      "all updated1\n",
      "round 11 \n",
      "all updated1\n",
      "round 12 \n",
      "all updated1\n",
      "round 13 \n",
      "all updated1\n",
      "round 14 \n",
      "all updated1\n",
      "round 15 \n",
      "all updated1\n",
      "round 16 \n",
      "all updated1\n",
      "round 17 \n",
      "all updated1\n",
      "round 18 \n",
      "all updated1\n",
      "round 19 \n",
      "all updated1\n"
     ]
    }
   ],
   "source": [
    "for t in range(0,20):\n",
    "    print(\"round %d \" %t)\n",
    "    optimization(powerLimit)"
   ]
  },
  {
   "cell_type": "code",
   "execution_count": 21,
   "metadata": {},
   "outputs": [],
   "source": []
  },
  {
   "cell_type": "code",
   "execution_count": 43,
   "metadata": {},
   "outputs": [
    {
     "name": "stdout",
     "output_type": "stream",
     "text": [
      "0.0\n",
      "0.0\n",
      "0.0\n"
     ]
    },
    {
     "ename": "TypeError",
     "evalue": "'<' not supported between instances of 'NoneType' and 'float'",
     "output_type": "error",
     "traceback": [
      "\u001b[1;31m---------------------------------------------------------------------------\u001b[0m",
      "\u001b[1;31mTypeError\u001b[0m                                 Traceback (most recent call last)",
      "\u001b[1;32m<ipython-input-43-ac149b8c245a>\u001b[0m in \u001b[0;36m<module>\u001b[1;34m\u001b[0m\n\u001b[0;32m      1\u001b[0m \u001b[1;32mfor\u001b[0m \u001b[0mi\u001b[0m \u001b[1;32min\u001b[0m \u001b[0mcollection\u001b[0m\u001b[1;33m.\u001b[0m\u001b[0mfind\u001b[0m\u001b[1;33m(\u001b[0m\u001b[1;33m{\u001b[0m\u001b[1;34m'cp_group'\u001b[0m\u001b[1;33m:\u001b[0m\u001b[1;34m'G1'\u001b[0m\u001b[1;33m}\u001b[0m\u001b[1;33m)\u001b[0m\u001b[1;33m:\u001b[0m\u001b[1;33m\u001b[0m\u001b[1;33m\u001b[0m\u001b[0m\n\u001b[1;32m----> 2\u001b[1;33m     \u001b[0mprint\u001b[0m\u001b[1;33m(\u001b[0m\u001b[0mmin\u001b[0m\u001b[1;33m(\u001b[0m\u001b[0mi\u001b[0m\u001b[1;33m[\u001b[0m\u001b[1;34m'powerValue'\u001b[0m\u001b[1;33m]\u001b[0m\u001b[1;33m,\u001b[0m\u001b[0mi\u001b[0m\u001b[1;33m[\u001b[0m\u001b[1;34m'chargingInfo'\u001b[0m\u001b[1;33m]\u001b[0m\u001b[1;33m[\u001b[0m\u001b[1;34m'E'\u001b[0m\u001b[1;33m]\u001b[0m\u001b[1;33m)\u001b[0m\u001b[1;33m)\u001b[0m\u001b[1;33m\u001b[0m\u001b[1;33m\u001b[0m\u001b[0m\n\u001b[0m",
      "\u001b[1;31mTypeError\u001b[0m: '<' not supported between instances of 'NoneType' and 'float'"
     ]
    }
   ],
   "source": []
  },
  {
   "cell_type": "code",
   "execution_count": null,
   "metadata": {},
   "outputs": [],
   "source": []
  }
 ],
 "metadata": {
  "kernelspec": {
   "display_name": "Python 3",
   "language": "python",
   "name": "python3"
  },
  "language_info": {
   "codemirror_mode": {
    "name": "ipython",
    "version": 3
   },
   "file_extension": ".py",
   "mimetype": "text/x-python",
   "name": "python",
   "nbconvert_exporter": "python",
   "pygments_lexer": "ipython3",
   "version": "3.7.4"
  }
 },
 "nbformat": 4,
 "nbformat_minor": 2
}
